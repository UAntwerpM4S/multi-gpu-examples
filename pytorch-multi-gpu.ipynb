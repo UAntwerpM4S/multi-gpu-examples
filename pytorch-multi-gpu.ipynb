{
 "cells": [
  {
   "cell_type": "code",
   "execution_count": 1,
   "id": "88fde604-7538-4154-85d3-b644be5a3be5",
   "metadata": {},
   "outputs": [],
   "source": [
    "import os\n",
    "import time\n",
    "import torch"
   ]
  },
  {
   "cell_type": "code",
   "execution_count": 2,
   "id": "6ca78603-0305-4b2b-97f3-3c107edaec3f",
   "metadata": {},
   "outputs": [],
   "source": [
    "os.environ['CUDA_VISIBLE_DEVICES'] = '0,1'"
   ]
  },
  {
   "cell_type": "code",
   "execution_count": 3,
   "id": "7ab28487-1968-456c-9638-6c62359453ff",
   "metadata": {},
   "outputs": [
    {
     "name": "stdout",
     "output_type": "stream",
     "text": [
      "cuda available: True\n",
      "cuda device count: 2\n",
      "cuda current device: 0\n"
     ]
    }
   ],
   "source": [
    "print('cuda available:', torch.cuda.is_available())\n",
    "print('cuda device count:', torch.cuda.device_count())\n",
    "print('cuda current device:', torch.cuda.current_device())\n",
    "\n",
    "cpu = torch.device('cpu')\n",
    "cuda = torch.device('cuda')     # default cuda device\n",
    "cuda0 = torch.device('cuda:0')  # first cuda device\n",
    "cuda1 = torch.device('cuda:1')  # second cuda device - will cause errors later on if only one cuda device visible"
   ]
  },
  {
   "cell_type": "code",
   "execution_count": 4,
   "id": "7297186e-7a3a-4033-9195-0b241aa4b4d0",
   "metadata": {},
   "outputs": [
    {
     "name": "stdout",
     "output_type": "stream",
     "text": [
      "cuda:0 cuda:0\n",
      "a cuda:1\n",
      "b cuda:1\n",
      "b2 cuda:1\n",
      "c cuda:1\n",
      "z cuda:0\n",
      "d cuda:0\n",
      "e cuda:0\n",
      "f cuda:0\n"
     ]
    }
   ],
   "source": [
    "x = torch.tensor([1., 2.], device=cuda0)\n",
    "# x.device is device(type='cuda', index=0)\n",
    "y = torch.tensor([1., 2.]).cuda()\n",
    "# y.device is device(type='cuda', index=0)\n",
    "\n",
    "print(x.device, y.device)\n",
    "\n",
    "with torch.cuda.device(1): # only works if at least two cuda devices are visible\n",
    "    # allocates a tensor on GPU 1\n",
    "    a = torch.tensor([1., 2.], device=cuda)\n",
    "\n",
    "    # transfers a tensor from CPU to GPU 1\n",
    "    b = torch.tensor([1., 2.]).cuda()\n",
    "    # a.device and b.device are device(type='cuda', index=1)\n",
    "\n",
    "    print('a', a.device)\n",
    "    print('b', b.device)\n",
    "\n",
    "    # You can also use ``Tensor.to`` to transfer a tensor:\n",
    "    b2 = torch.tensor([1., 2.]).to(device=cuda)\n",
    "    # b.device and b2.device are device(type='cuda', index=1)\n",
    "\n",
    "    print('b2', b2.device)\n",
    "\n",
    "    c = a + b\n",
    "    # c.device is device(type='cuda', index=1)\n",
    "\n",
    "    print('c', c.device)\n",
    "\n",
    "    z = x + y\n",
    "    # z.device is device(type='cuda', index=0)\n",
    "\n",
    "    print('z', z.device)\n",
    "    \n",
    "    # even within a context, you can specify the device\n",
    "    # (or give a GPU index to the .cuda call)\n",
    "    d = torch.randn(2, device=cuda0)\n",
    "    e = torch.randn(2).to(cuda0)\n",
    "    f = torch.randn(2).cuda(cuda0)\n",
    "    # d.device, e.device, and f.device are all device(type='cuda', index=2)\n",
    "\n",
    "    print('d', d.device)\n",
    "    print('e', e.device)\n",
    "    print('f', f.device)"
   ]
  },
  {
   "cell_type": "code",
   "execution_count": 5,
   "id": "cff95fae-fe38-4228-856e-620ef86d4d87",
   "metadata": {},
   "outputs": [
    {
     "name": "stdout",
     "output_type": "stream",
     "text": [
      "peer access cuda:0 --> cuda:1 False\n",
      "peer access cuda:1 --> cuda:0 False\n",
      "copy tensor cuda:0 --> cuda:1 32.9526 seconds\n",
      "copy tensor cuda:1 --> cuda:0 32.4832 seconds\n",
      "copy tensor cuda:0 --> cpu 174.5688 seconds\n",
      "copy tensor cuda:1 --> cpu 177.9368 seconds\n"
     ]
    }
   ],
   "source": [
    "print('peer access cuda:0 --> cuda:1', torch.cuda.can_device_access_peer(cuda0, cuda1))\n",
    "print('peer access cuda:1 --> cuda:0', torch.cuda.can_device_access_peer(cuda1, cuda0))\n",
    "\n",
    "tensor0 = torch.zeros((32*1024, 32*1024), dtype = torch.int, device=cuda0)\n",
    "tensor1 = torch.zeros((32*1024, 32*1024), dtype = torch.int, device=cuda1)\n",
    "\n",
    "start = time.time()\n",
    "for i in range(100):\n",
    "    result = tensor0.to(cuda1)\n",
    "    torch.cuda.synchronize()\n",
    "end = time.time()\n",
    "print('copy tensor cuda:0 --> cuda:1', f'{end - start:.4f} seconds')\n",
    "\n",
    "start = time.time()\n",
    "for i in range(100):\n",
    "    result = tensor1.to(cuda0)\n",
    "    torch.cuda.synchronize()\n",
    "end = time.time()\n",
    "print('copy tensor cuda:1 --> cuda:0', f'{end - start:.4f} seconds')\n",
    "\n",
    "start = time.time()\n",
    "for i in range(100):\n",
    "    result = tensor0.to(cpu)\n",
    "    torch.cuda.synchronize()\n",
    "end = time.time()\n",
    "print('copy tensor cuda:0 --> cpu', f'{end - start:.4f} seconds')\n",
    "\n",
    "start = time.time()\n",
    "for i in range(100):\n",
    "    result = tensor1.to(cpu)\n",
    "    torch.cuda.synchronize()\n",
    "end = time.time()\n",
    "print('copy tensor cuda:1 --> cpu', f'{end - start:.4f} seconds')"
   ]
  },
  {
   "cell_type": "code",
   "execution_count": null,
   "id": "85edfbe8-98c4-4883-a5e3-850adf8479bc",
   "metadata": {},
   "outputs": [],
   "source": []
  },
  {
   "cell_type": "code",
   "execution_count": null,
   "id": "be05de4b-1295-4368-91cd-47fd803c5e81",
   "metadata": {},
   "outputs": [],
   "source": []
  }
 ],
 "metadata": {
  "kernelspec": {
   "display_name": ".venv-bap-vincent",
   "language": "python",
   "name": ".venv-bap-vincent"
  },
  "language_info": {
   "codemirror_mode": {
    "name": "ipython",
    "version": 3
   },
   "file_extension": ".py",
   "mimetype": "text/x-python",
   "name": "python",
   "nbconvert_exporter": "python",
   "pygments_lexer": "ipython3",
   "version": "3.10.10"
  }
 },
 "nbformat": 4,
 "nbformat_minor": 5
}
